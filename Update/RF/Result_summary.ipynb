{
 "cells": [
  {
   "cell_type": "code",
   "execution_count": 3,
   "id": "bc143df3",
   "metadata": {},
   "outputs": [],
   "source": [
    "import numpy as np\n",
    "import matplotlib.pyplot as plt\n",
    "import os\n",
    "#ignore warning message\n",
    "import glob\n",
    "import pickle"
   ]
  },
  {
   "cell_type": "code",
   "execution_count": 4,
   "id": "8158858c",
   "metadata": {},
   "outputs": [],
   "source": [
    "HC_AUD_perf_files=glob.glob('HC_AUD*acc_*')\n",
    "HC_AUD_perf_files.sort()\n",
    "my_dpi=192\n",
    "set_num=0\n",
    "for file in HC_AUD_perf_files:\n",
    "    x=np.load(file)\n",
    "    mean_perf=np.mean(x)\n",
    "    fig=plt.figure(figsize=(480/my_dpi,480/my_dpi),dpi=my_dpi)\n",
    "    n, bins, patches = plt.hist(x, 50, alpha=0.75,facecolor='gray')\n",
    "    plt.xlabel('ACC(mean): {num:.3f}'.format(num=mean_perf),size=5)\n",
    "    if 'set_1' in file:\n",
    "        set_num=0\n",
    "    elif 'set_2' in file:\n",
    "        set_num=1\n",
    "    else:\n",
    "        set_num=2\n",
    "    title_name=file.replace('.npy','')\n",
    "    plt.xticks(fontsize=4)\n",
    "    plt.yticks(fontsize=2)\n",
    "    plt.title(title_name,size=5)\n",
    "    plt.axvline(x=mean_perf,color='r')\n",
    "    plt.savefig('HC_AUD_png/'+title_name+'.png')\n",
    "    plt.close(fig)"
   ]
  },
  {
   "cell_type": "code",
   "execution_count": null,
   "id": "b2c4171b",
   "metadata": {},
   "outputs": [],
   "source": [
    "HC_IGD_perf_files=glob.glob('HC_IGD*acc_*')\n",
    "HC_IGD_perf_files.sort()\n",
    "my_dpi=192\n",
    "param=glob.glob('../linear_HC_IGD*best_*')\n",
    "for file in HC_IGD_perf_files:\n",
    "    x=np.load(file)\n",
    "    mean_perf=np.mean(x)\n",
    "    fig=plt.figure(figsize=(480/my_dpi,480/my_dpi),dpi=my_dpi)\n",
    "    n, bins, patches = plt.hist(x, 50, alpha=0.75,facecolor='gray')\n",
    "    plt.xlabel('ACC(mean): {num:.3f}'.format(num=mean_perf),size=5)\n",
    "    if 'set_1' in file:\n",
    "        set_num=0\n",
    "    elif 'set_2' in file:\n",
    "        set_num=1\n",
    "    else:\n",
    "        set_num=2\n",
    "    title_name=file.replace('.npy','')\n",
    "    plt.xticks(fontsize=4)\n",
    "    plt.yticks(fontsize=2)\n",
    "    plt.title(title_name,size=5)\n",
    "    plt.axvline(x=mean_perf,color='r')\n",
    "    plt.savefig('HC_IGD_png/'+title_name+'.png')\n",
    "    plt.close(fig)"
   ]
  },
  {
   "cell_type": "code",
   "execution_count": null,
   "id": "928bb5e2",
   "metadata": {},
   "outputs": [],
   "source": [
    "IGD_AUD_perf_files=glob.glob('AUD_IGD*acc_*')\n",
    "IGD_AUD_perf_files.sort()\n",
    "my_dpi=192\n",
    "for file in IGD_AUD_perf_files:\n",
    "    x=np.load(file)\n",
    "    mean_perf=np.mean(x)\n",
    "    fig=plt.figure(figsize=(480/my_dpi,480/my_dpi),dpi=my_dpi)\n",
    "    n, bins, patches = plt.hist(x, 50, alpha=0.75,facecolor='gray')\n",
    "    plt.xlabel('ACC(mean): {num:.3f}'.format(num=mean_perf),size=5)\n",
    "    if 'set_1' in file:\n",
    "        set_num=0\n",
    "    elif 'set_2' in file:\n",
    "        set_num=1\n",
    "    else:\n",
    "        set_num=2\n",
    "    title_name=file.replace('.npy','')\n",
    "    plt.xticks(fontsize=4)\n",
    "    plt.yticks(fontsize=2)\n",
    "    plt.title(title_name,size=5)\n",
    "    plt.axvline(x=mean_perf,color='r')\n",
    "    plt.savefig('AUD_IGD_png/'+title_name+'.png')\n",
    "    plt.close(fig)"
   ]
  },
  {
   "cell_type": "code",
   "execution_count": null,
   "id": "fa9f5d03",
   "metadata": {},
   "outputs": [],
   "source": []
  }
 ],
 "metadata": {
  "kernelspec": {
   "display_name": "Python 3 (ipykernel)",
   "language": "python",
   "name": "python3"
  },
  "language_info": {
   "codemirror_mode": {
    "name": "ipython",
    "version": 3
   },
   "file_extension": ".py",
   "mimetype": "text/x-python",
   "name": "python",
   "nbconvert_exporter": "python",
   "pygments_lexer": "ipython3",
   "version": "3.11.5"
  }
 },
 "nbformat": 4,
 "nbformat_minor": 5
}
