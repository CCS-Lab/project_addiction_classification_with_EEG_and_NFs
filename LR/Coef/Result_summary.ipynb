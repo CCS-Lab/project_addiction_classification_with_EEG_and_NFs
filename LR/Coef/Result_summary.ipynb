{
 "cells": [
  {
   "cell_type": "code",
   "execution_count": 7,
   "metadata": {},
   "outputs": [],
   "source": [
    "import pandas as pd\n",
    "import numpy as np\n",
    "import matplotlib.pyplot as plt\n",
    "import seaborn as sns\n",
    "import os\n",
    "from tqdm import tqdm\n",
    "#ignore warning message\n",
    "import glob\n",
    "import pickle"
   ]
  },
  {
   "cell_type": "code",
   "execution_count": 8,
   "metadata": {},
   "outputs": [],
   "source": [
    "import seaborn as sns\n",
    "HC_AUD_coef_files=glob.glob('HC_AUD*coef*')\n",
    "HC_AUD_coef_files.sort()\n",
    "my_dpi=192\n",
    "for file in HC_AUD_coef_files:\n",
    "    fig=plt.figure(figsize=(480/my_dpi,480/my_dpi),dpi=my_dpi)\n",
    "    with open(file, 'rb') as handle:\n",
    "        all_beta = pickle.load(handle)\n",
    "    df = pd.DataFrame.from_dict(all_beta,orient='index').transpose()\n",
    "    sur_rate=1-np.sum(df==0.0)/df.shape[0]\n",
    "    sur_var=sur_rate>0.5\n",
    "    sur_var=sur_var[sur_var==True]\n",
    "    sur_var=sur_var.index.tolist()\n",
    "    all_beta_df=df[sur_var]\n",
    "    mean_beta=np.abs(np.mean(all_beta_df,axis=0))\n",
    "    feature_order=np.argsort(mean_beta)\n",
    "    feature_order=feature_order[::-1]\n",
    "    all_beta_df=all_beta_df.iloc[:,feature_order]\n",
    "    if np.shape(all_beta_df)[1] > 10:\n",
    "        all_beta_df=all_beta_df.iloc[:,:10]\n",
    "    sns.boxplot(data=all_beta_df, orient='h', color='k',showfliers = False,order=all_beta_df.columns.to_list(),showmeans=True,meanprops={\"marker\":\"o\",\n",
    "                       \"markerfacecolor\":\"white\", \n",
    "                       \"markeredgecolor\":\"black\",\n",
    "                      \"markersize\":\"2.5\"})\n",
    "    sns.stripplot(data=all_beta_df, orient='h',order=all_beta_df.columns.to_list(),alpha=0.08,color='red',size=2)\n",
    "    plt.axvline(x=0, color='.5')\n",
    "    plt.xlabel('Beta estimates',fontsize=5)\n",
    "    plt.ylabel('Predictors',fontsize=5)\n",
    "    title_name=file.replace('coef.pickle','importance')\n",
    "    title_name=title_name.replace('set_EEG','EEG')\n",
    "    title_name=title_name.replace('set_NF','NF')\n",
    "    plt.xticks(fontsize=4)\n",
    "    plt.yticks(fontsize=4)\n",
    "    plt.title(title_name,size=5)\n",
    "    plt.subplots_adjust(left=.3)\n",
    "    plt.savefig('png/'+title_name+'.pdf')\n",
    "    plt.close(fig)    "
   ]
  },
  {
   "cell_type": "code",
   "execution_count": 9,
   "metadata": {},
   "outputs": [],
   "source": [
    "import seaborn as sns\n",
    "HC_AUD_coef_files=glob.glob('HC_IGD*coef*')\n",
    "HC_AUD_coef_files.sort()\n",
    "for file in HC_AUD_coef_files:\n",
    "    fig=plt.figure(figsize=(480/my_dpi,480/my_dpi),dpi=my_dpi)\n",
    "    with open(file, 'rb') as handle:\n",
    "        all_beta = pickle.load(handle)\n",
    "    df = pd.DataFrame.from_dict(all_beta,orient='index').transpose()\n",
    "    sur_rate=1-np.sum(df==0.0)/df.shape[0]\n",
    "    sur_var=sur_rate>0.5\n",
    "    sur_var=sur_var[sur_var==True]\n",
    "    sur_var=sur_var.index.tolist()\n",
    "    all_beta_df=df[sur_var]\n",
    "    mean_beta=np.abs(np.mean(all_beta_df,axis=0))\n",
    "    feature_order=np.argsort(mean_beta)\n",
    "    feature_order=feature_order[::-1]\n",
    "    all_beta_df=all_beta_df.iloc[:,feature_order]\n",
    "    if np.shape(all_beta_df)[1] > 10:\n",
    "        all_beta_df=all_beta_df.iloc[:,:10]\n",
    "    sns.boxplot(data=-all_beta_df, orient='h', color='k',showfliers = False,order=all_beta_df.columns.to_list(),showmeans=True,meanprops={\"marker\":\"o\",\n",
    "                       \"markerfacecolor\":\"white\", \n",
    "                       \"markeredgecolor\":\"black\",\n",
    "                      \"markersize\":\"2.5\"})\n",
    "    sns.stripplot(data=-all_beta_df, orient='h',order=all_beta_df.columns.to_list(),alpha=0.08,color='red',size=2)\n",
    "    plt.axvline(x=0, color='.5')\n",
    "    plt.xlabel('Beta estimates',fontsize=5)\n",
    "    plt.ylabel('Predictors',fontsize=5)\n",
    "    title_name=file.replace('coef.pickle','importance')\n",
    "    title_name=title_name.replace('set_EEG','EEG')\n",
    "    title_name=title_name.replace('set_NF','NF')\n",
    "    plt.xticks(fontsize=4)\n",
    "    plt.yticks(fontsize=4)\n",
    "    plt.title(title_name,size=5)\n",
    "    plt.subplots_adjust(left=.3)\n",
    "    plt.savefig('png/'+title_name+'.pdf')\n",
    "    plt.close(fig)"
   ]
  },
  {
   "cell_type": "code",
   "execution_count": 10,
   "metadata": {},
   "outputs": [],
   "source": [
    "import seaborn as sns\n",
    "AUD_IGD_coef_files=glob.glob('AUD_IGD*coef*')\n",
    "AUD_IGD_coef_files.sort()\n",
    "for file in AUD_IGD_coef_files:\n",
    "    fig=plt.figure(figsize=(480/my_dpi,480/my_dpi),dpi=my_dpi)\n",
    "    with open(file, 'rb') as handle:\n",
    "        all_beta = pickle.load(handle)\n",
    "    df = pd.DataFrame.from_dict(all_beta,orient='index').transpose()\n",
    "    sur_rate=1-np.sum(df==0.0)/df.shape[0]\n",
    "    sur_var=sur_rate>0.5\n",
    "    sur_var=sur_var[sur_var==True]\n",
    "    sur_var=sur_var.index.tolist()\n",
    "    all_beta_df=df[sur_var]\n",
    "    mean_beta=np.abs(np.mean(all_beta_df,axis=0))\n",
    "    feature_order=np.argsort(mean_beta)\n",
    "    feature_order=feature_order[::-1]\n",
    "    all_beta_df=all_beta_df.iloc[:,feature_order]\n",
    "    if np.shape(all_beta_df)[1] > 10:\n",
    "        all_beta_df=all_beta_df.iloc[:,:10]\n",
    "    sns.boxplot(data=all_beta_df, orient='h', color='k',showfliers = False,order=all_beta_df.columns.to_list(),showmeans=True,meanprops={\"marker\":\"o\",\n",
    "                       \"markerfacecolor\":\"white\", \n",
    "                       \"markeredgecolor\":\"black\",\n",
    "                      \"markersize\":\"2.5\"})\n",
    "    sns.stripplot(data=all_beta_df, orient='h',order=all_beta_df.columns.to_list(),alpha=0.08,color='red',size=2)\n",
    "    plt.axvline(x=0, color='.5')\n",
    "    plt.xlabel('Beta estimates',fontsize=5)\n",
    "    plt.ylabel('Predictors',fontsize=5)\n",
    "    title_name=file.replace('coef.pickle','importance')\n",
    "    title_name=title_name.replace('set_EEG','EEG')\n",
    "    title_name=title_name.replace('set_NF','NF')\n",
    "    plt.xticks(fontsize=4)\n",
    "    plt.yticks(fontsize=4)\n",
    "    plt.title(title_name,size=5)\n",
    "    plt.subplots_adjust(left=.3)\n",
    "    plt.savefig('png/'+title_name+'.pdf')\n",
    "    plt.close(fig)"
   ]
  },
  {
   "cell_type": "code",
   "execution_count": 11,
   "metadata": {},
   "outputs": [],
   "source": [
    "import seaborn as sns\n",
    "AUD_IGD_hpyer_files=glob.glob('*hyper*')\n",
    "AUD_IGD_hpyer_files.sort()\n",
    "for file in AUD_IGD_hpyer_files:\n",
    "    with open(file, 'rb') as handle:\n",
    "        params = pickle.load(handle)\n",
    "    df = pd.DataFrame(params)\n",
    "    df=df[['EEG_weight']]\n",
    "    fig=plt.figure(figsize=(480/my_dpi,480/my_dpi),dpi=my_dpi)\n",
    "    sns.boxplot(data=df, orient='h', color='k',showfliers = False,order=df.columns.to_list(),showmeans=True,meanprops={\"marker\":\"o\",\n",
    "                       \"markerfacecolor\":\"white\", \n",
    "                       \"markeredgecolor\":\"black\",\n",
    "                      \"markersize\":\"2.5\"})\n",
    "    sns.stripplot(data=df, orient='h',order=df.columns.to_list(),alpha=0.08,color='red')\n",
    "    plt.axvline(x=0.5, color='.5')\n",
    "    plt.xlabel('Mean EEG weight: {num:.3f}'.format(num=float(df.mean())),fontsize=5)\n",
    "    plt.ylabel('Predictors',fontsize=5)\n",
    "    title_name=file.replace('hyperparams.pickle','EEG_weight')\n",
    "    plt.xticks(fontsize=4)\n",
    "    plt.yticks(fontsize=4)\n",
    "    plt.title(title_name,size=5)\n",
    "    plt.subplots_adjust(left=.3)\n",
    "    plt.savefig('png/'+title_name+'.pdf')\n",
    "    plt.close(fig)\n"
   ]
  },
  {
   "cell_type": "code",
   "execution_count": 12,
   "metadata": {},
   "outputs": [
    {
     "name": "stdout",
     "output_type": "stream",
     "text": [
      "AUD_IGD_hyperparams.pickle\n",
      "mean: EEG_weight    0.491748\n",
      "dtype: float64\n",
      "std: EEG_weight    0.007785\n",
      "dtype: float64\n",
      "HC_AUD_hyperparams.pickle\n",
      "mean: EEG_weight    0.305149\n",
      "dtype: float64\n",
      "std: EEG_weight    0.005523\n",
      "dtype: float64\n",
      "HC_IGD_hyperparams.pickle\n",
      "mean: EEG_weight    0.335469\n",
      "dtype: float64\n",
      "std: EEG_weight    0.005151\n",
      "dtype: float64\n"
     ]
    },
    {
     "name": "stderr",
     "output_type": "stream",
     "text": [
      "/home/sms1313j/anaconda3/envs/sklearn-env/lib/python3.9/site-packages/numpy/core/fromnumeric.py:3417: FutureWarning: In a future version, DataFrame.mean(axis=None) will return a scalar mean over the entire DataFrame. To retain the old behavior, use 'frame.mean(axis=0)' or just 'frame.mean()'\n",
      "  return mean(axis=axis, dtype=dtype, out=out, **kwargs)\n",
      "/home/sms1313j/anaconda3/envs/sklearn-env/lib/python3.9/site-packages/numpy/core/fromnumeric.py:3417: FutureWarning: In a future version, DataFrame.mean(axis=None) will return a scalar mean over the entire DataFrame. To retain the old behavior, use 'frame.mean(axis=0)' or just 'frame.mean()'\n",
      "  return mean(axis=axis, dtype=dtype, out=out, **kwargs)\n",
      "/home/sms1313j/anaconda3/envs/sklearn-env/lib/python3.9/site-packages/numpy/core/fromnumeric.py:3417: FutureWarning: In a future version, DataFrame.mean(axis=None) will return a scalar mean over the entire DataFrame. To retain the old behavior, use 'frame.mean(axis=0)' or just 'frame.mean()'\n",
      "  return mean(axis=axis, dtype=dtype, out=out, **kwargs)\n"
     ]
    }
   ],
   "source": [
    "import seaborn as sns\n",
    "AUD_IGD_hpyer_files=glob.glob('*hyper*')\n",
    "AUD_IGD_hpyer_files.sort()\n",
    "for file in AUD_IGD_hpyer_files:\n",
    "    with open(file, 'rb') as handle:\n",
    "        params = pickle.load(handle)\n",
    "    df = pd.DataFrame(params)\n",
    "    df=df[['EEG_weight']]\n",
    "    print(file)\n",
    "    print(\"mean: \"+str(np.mean(df)))\n",
    "    print(\"std: \"+str(np.std(df)))\n"
   ]
  },
  {
   "cell_type": "code",
   "execution_count": 15,
   "metadata": {},
   "outputs": [
    {
     "name": "stdout",
     "output_type": "stream",
     "text": [
      "/home/sms1313j/project_EEG_addition_classification/code/LogisticRegression/each_set/Coef/AUD_IGD_hyperparams.pickle\n",
      "mean: EEG_weight    0.491748\n",
      "dtype: float64\n",
      "std: EEG_weight    0.007785\n",
      "dtype: float64\n",
      "/home/sms1313j/project_EEG_addition_classification/code/Random Forest/each_set/Coef/AUD_IGD_hyperparams.pickle\n",
      "mean: EEG_weight    0.482812\n",
      "dtype: float64\n",
      "std: EEG_weight    0.005929\n",
      "dtype: float64\n",
      "/home/sms1313j/project_EEG_addition_classification/code/SVM/each_set/Coef/AUD_IGD_hyperparams.pickle\n",
      "mean: EEG_weight    0.482154\n",
      "dtype: float64\n",
      "std: EEG_weight    0.004668\n",
      "dtype: float64\n",
      "------------------------\n",
      "total mean and std\n",
      "mean: 0.48557138610452416\n",
      "std: 0.0076375844999632125\n"
     ]
    },
    {
     "name": "stderr",
     "output_type": "stream",
     "text": [
      "/home/sms1313j/anaconda3/envs/sklearn-env/lib/python3.9/site-packages/numpy/core/fromnumeric.py:3417: FutureWarning: In a future version, DataFrame.mean(axis=None) will return a scalar mean over the entire DataFrame. To retain the old behavior, use 'frame.mean(axis=0)' or just 'frame.mean()'\n",
      "  return mean(axis=axis, dtype=dtype, out=out, **kwargs)\n",
      "/home/sms1313j/anaconda3/envs/sklearn-env/lib/python3.9/site-packages/numpy/core/fromnumeric.py:3417: FutureWarning: In a future version, DataFrame.mean(axis=None) will return a scalar mean over the entire DataFrame. To retain the old behavior, use 'frame.mean(axis=0)' or just 'frame.mean()'\n",
      "  return mean(axis=axis, dtype=dtype, out=out, **kwargs)\n",
      "/home/sms1313j/anaconda3/envs/sklearn-env/lib/python3.9/site-packages/numpy/core/fromnumeric.py:3417: FutureWarning: In a future version, DataFrame.mean(axis=None) will return a scalar mean over the entire DataFrame. To retain the old behavior, use 'frame.mean(axis=0)' or just 'frame.mean()'\n",
      "  return mean(axis=axis, dtype=dtype, out=out, **kwargs)\n"
     ]
    }
   ],
   "source": [
    "import seaborn as sns\n",
    "AUD_IGD_hpyer_files=glob.glob('/home/sms1313j/project_EEG_addition_classification/code/*/each_set/Coef/AUD_IGD*hyper*')\n",
    "AUD_IGD_hpyer_files.sort()\n",
    "total=[]\n",
    "for file in AUD_IGD_hpyer_files:\n",
    "    with open(file, 'rb') as handle:\n",
    "        params = pickle.load(handle)\n",
    "    df = pd.DataFrame(params)\n",
    "    df=df[['EEG_weight']]\n",
    "    total=total+np.squeeze(np.array(df)).tolist()\n",
    "    print(file)\n",
    "    print(\"mean: \"+str(np.mean(df)))\n",
    "    print(\"std: \"+str(np.std(df)))\n",
    "print('------------------------')\n",
    "print('total mean and std')\n",
    "print(\"mean: \"+str(np.mean(total)))\n",
    "print(\"std: \"+str(np.std(total)))\n"
   ]
  },
  {
   "cell_type": "code",
   "execution_count": 17,
   "metadata": {},
   "outputs": [
    {
     "name": "stdout",
     "output_type": "stream",
     "text": [
      "/home/sms1313j/project_EEG_addition_classification/code/LogisticRegression/each_set/Coef/HC_IGD_hyperparams.pickle\n",
      "mean: EEG_weight    0.335469\n",
      "dtype: float64\n",
      "std: EEG_weight    0.005151\n",
      "dtype: float64\n",
      "/home/sms1313j/project_EEG_addition_classification/code/Random Forest/each_set/Coef/HC_IGD_hyperparams.pickle\n",
      "mean: EEG_weight    0.332457\n",
      "dtype: float64\n",
      "std: EEG_weight    0.006111\n",
      "dtype: float64\n",
      "/home/sms1313j/project_EEG_addition_classification/code/SVM/each_set/Coef/HC_IGD_hyperparams.pickle\n",
      "mean: EEG_weight    0.353331\n",
      "dtype: float64\n",
      "std: EEG_weight    0.004372\n",
      "dtype: float64\n",
      "------------------------\n",
      "total mean and std\n",
      "mean: 0.34041899024103184\n",
      "std: 0.010608120186824995\n"
     ]
    },
    {
     "name": "stderr",
     "output_type": "stream",
     "text": [
      "/home/sms1313j/anaconda3/envs/sklearn-env/lib/python3.9/site-packages/numpy/core/fromnumeric.py:3417: FutureWarning: In a future version, DataFrame.mean(axis=None) will return a scalar mean over the entire DataFrame. To retain the old behavior, use 'frame.mean(axis=0)' or just 'frame.mean()'\n",
      "  return mean(axis=axis, dtype=dtype, out=out, **kwargs)\n",
      "/home/sms1313j/anaconda3/envs/sklearn-env/lib/python3.9/site-packages/numpy/core/fromnumeric.py:3417: FutureWarning: In a future version, DataFrame.mean(axis=None) will return a scalar mean over the entire DataFrame. To retain the old behavior, use 'frame.mean(axis=0)' or just 'frame.mean()'\n",
      "  return mean(axis=axis, dtype=dtype, out=out, **kwargs)\n",
      "/home/sms1313j/anaconda3/envs/sklearn-env/lib/python3.9/site-packages/numpy/core/fromnumeric.py:3417: FutureWarning: In a future version, DataFrame.mean(axis=None) will return a scalar mean over the entire DataFrame. To retain the old behavior, use 'frame.mean(axis=0)' or just 'frame.mean()'\n",
      "  return mean(axis=axis, dtype=dtype, out=out, **kwargs)\n"
     ]
    }
   ],
   "source": [
    "import seaborn as sns\n",
    "HC_IGD_hpyer_files=glob.glob('/home/sms1313j/project_EEG_addition_classification/code/*/each_set/Coef/HC_IGD*hyper*')\n",
    "HC_IGD_hpyer_files.sort()\n",
    "total=[]\n",
    "for file in HC_IGD_hpyer_files:\n",
    "    with open(file, 'rb') as handle:\n",
    "        params = pickle.load(handle)\n",
    "    df = pd.DataFrame(params)\n",
    "    df=df[['EEG_weight']]\n",
    "    total=total+np.squeeze(np.array(df)).tolist()\n",
    "    print(file)\n",
    "    print(\"mean: \"+str(np.mean(df)))\n",
    "    print(\"std: \"+str(np.std(df)))\n",
    "print('------------------------')\n",
    "print('total mean and std')\n",
    "print(\"mean: \"+str(np.mean(total)))\n",
    "print(\"std: \"+str(np.std(total)))\n"
   ]
  },
  {
   "cell_type": "code",
   "execution_count": 18,
   "metadata": {},
   "outputs": [
    {
     "name": "stdout",
     "output_type": "stream",
     "text": [
      "/home/sms1313j/project_EEG_addition_classification/code/LogisticRegression/each_set/Coef/HC_AUD_hyperparams.pickle\n",
      "mean: EEG_weight    0.305149\n",
      "dtype: float64\n",
      "std: EEG_weight    0.005523\n",
      "dtype: float64\n",
      "/home/sms1313j/project_EEG_addition_classification/code/Random Forest/each_set/Coef/HC_AUD_hyperparams.pickle\n",
      "mean: EEG_weight    0.351951\n",
      "dtype: float64\n",
      "std: EEG_weight    0.007521\n",
      "dtype: float64\n",
      "/home/sms1313j/project_EEG_addition_classification/code/SVM/each_set/Coef/HC_AUD_hyperparams.pickle\n",
      "mean: EEG_weight    0.328303\n",
      "dtype: float64\n",
      "std: EEG_weight    0.003839\n",
      "dtype: float64\n",
      "------------------------\n",
      "total mean and std\n",
      "mean: 0.32846766583584375\n",
      "std: 0.019975583495501378\n"
     ]
    },
    {
     "name": "stderr",
     "output_type": "stream",
     "text": [
      "/home/sms1313j/anaconda3/envs/sklearn-env/lib/python3.9/site-packages/numpy/core/fromnumeric.py:3417: FutureWarning: In a future version, DataFrame.mean(axis=None) will return a scalar mean over the entire DataFrame. To retain the old behavior, use 'frame.mean(axis=0)' or just 'frame.mean()'\n",
      "  return mean(axis=axis, dtype=dtype, out=out, **kwargs)\n",
      "/home/sms1313j/anaconda3/envs/sklearn-env/lib/python3.9/site-packages/numpy/core/fromnumeric.py:3417: FutureWarning: In a future version, DataFrame.mean(axis=None) will return a scalar mean over the entire DataFrame. To retain the old behavior, use 'frame.mean(axis=0)' or just 'frame.mean()'\n",
      "  return mean(axis=axis, dtype=dtype, out=out, **kwargs)\n",
      "/home/sms1313j/anaconda3/envs/sklearn-env/lib/python3.9/site-packages/numpy/core/fromnumeric.py:3417: FutureWarning: In a future version, DataFrame.mean(axis=None) will return a scalar mean over the entire DataFrame. To retain the old behavior, use 'frame.mean(axis=0)' or just 'frame.mean()'\n",
      "  return mean(axis=axis, dtype=dtype, out=out, **kwargs)\n"
     ]
    }
   ],
   "source": [
    "import seaborn as sns\n",
    "HC_AUD_hpyer_files=glob.glob('/home/sms1313j/project_EEG_addition_classification/code/*/each_set/Coef/HC_AUD*hyper*')\n",
    "HC_AUD_hpyer_files.sort()\n",
    "total=[]\n",
    "for file in HC_AUD_hpyer_files:\n",
    "    with open(file, 'rb') as handle:\n",
    "        params = pickle.load(handle)\n",
    "    df = pd.DataFrame(params)\n",
    "    df=df[['EEG_weight']]\n",
    "    total=total+np.squeeze(np.array(df)).tolist()\n",
    "    print(file)\n",
    "    print(\"mean: \"+str(np.mean(df)))\n",
    "    print(\"std: \"+str(np.std(df)))\n",
    "print('------------------------')\n",
    "print('total mean and std')\n",
    "print(\"mean: \"+str(np.mean(total)))\n",
    "print(\"std: \"+str(np.std(total)))\n"
   ]
  },
  {
   "cell_type": "code",
   "execution_count": null,
   "metadata": {},
   "outputs": [],
   "source": []
  }
 ],
 "metadata": {
  "kernelspec": {
   "display_name": "3.9",
   "language": "python",
   "name": "3.9"
  },
  "language_info": {
   "codemirror_mode": {
    "name": "ipython",
    "version": 3
   },
   "file_extension": ".py",
   "mimetype": "text/x-python",
   "name": "python",
   "nbconvert_exporter": "python",
   "pygments_lexer": "ipython3",
   "version": "3.9.13"
  }
 },
 "nbformat": 4,
 "nbformat_minor": 5
}
